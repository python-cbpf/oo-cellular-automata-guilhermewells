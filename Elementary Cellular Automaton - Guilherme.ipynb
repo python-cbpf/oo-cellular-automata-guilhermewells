{
 "cells": [
  {
   "cell_type": "code",
   "execution_count": 220,
   "metadata": {},
   "outputs": [],
   "source": [
    "import matplotlib.pyplot as plt\n",
    "import numpy as np"
   ]
  },
  {
   "cell_type": "code",
   "execution_count": 270,
   "metadata": {},
   "outputs": [],
   "source": [
    "class Rule:\n",
    "    \n",
    "    \n",
    "    def __init__(self,value):\n",
    "        self.value = value\n",
    "        self.Ca = [0 for i in range(3*size)]\n",
    "        self.Ca[int(3*size/2)] = 1\n",
    "\n",
    "    def Regra(self):\n",
    "        \n",
    "        Canew = [0]\n",
    "\n",
    "        a = '{0:b}'.format(self.value)\n",
    "        x = a.rjust(8,'0')\n",
    "        comb = {'111':x[0],'110':x[1],'101':x[2],'100':x[3],'011':x[4],'010':x[5],'001':x[6],'000':x[7]}\n",
    "        for i in range(1,3*size-1):\n",
    "            y = str(self.Ca[i-1]) + str(self.Ca[i]) + str(self.Ca[i+1])\n",
    "            Canew.append(comb[y])\n",
    "        Canew.append(0)\n",
    "        self.Ca = Canew      \n",
    "        "
   ]
  },
  {
   "cell_type": "code",
   "execution_count": 283,
   "metadata": {
    "scrolled": false
   },
   "outputs": [
    {
     "name": "stdout",
     "output_type": "stream",
     "text": [
      "Qual o tamanho da grade(ímpar) ? 100\n",
      "Diga uma regra de automata, de 0 a 256: 110\n"
     ]
    },
    {
     "data": {
      "text/plain": [
       "<matplotlib.image.AxesImage at 0x2ad1cc0b2b0>"
      ]
     },
     "execution_count": 283,
     "metadata": {},
     "output_type": "execute_result"
    },
    {
     "data": {
      "image/png": "[encoded data removed]",
      "text/plain": [
       "<Figure size 432x288 with 1 Axes>"
      ]
     },
     "metadata": {
      "needs_background": "light"
     },
     "output_type": "display_data"
    }
   ],
   "source": [
    "size = int(input('Qual o tamanho da grade(ímpar) ? '))\n",
    "rules = Rule(int(input('Diga uma regra de automata, de 0 a 256: ')))\n",
    "\n",
    "\n",
    "for j in range(size):\n",
    "    if j == 0:\n",
    "        A = rules.Ca\n",
    "#        print(A)\n",
    "#        print('---------------------------------')\n",
    "    rules.Regra()\n",
    "#    print(rules.Ca)\n",
    "#    print('---------------------------------')\n",
    "    A = np.vstack((A,rules.Ca)).astype(float)\n",
    "#print(A)\n",
    "plt.imshow(A)\n",
    "\n"
   ]
  },
  {
   "cell_type": "code",
   "execution_count": null,
   "metadata": {},
   "outputs": [],
   "source": []
  }
 ],
 "metadata": {
  "kernelspec": {
   "display_name": "Python 3",
   "language": "python",
   "name": "python3"
  },
  "language_info": {
   "codemirror_mode": {
    "name": "ipython",
    "version": 3
   },
   "file_extension": ".py",
   "mimetype": "text/x-python",
   "name": "python",
   "nbconvert_exporter": "python",
   "pygments_lexer": "ipython3",
   "version": "3.7.0"
  }
 },
 "nbformat": 4,
 "nbformat_minor": 2
}
